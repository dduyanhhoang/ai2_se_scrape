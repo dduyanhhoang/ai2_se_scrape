{
 "cells": [
  {
   "metadata": {},
   "cell_type": "markdown",
   "source": [
    "# TODO list\n",
    "- [x] Resolve the `WDIR` column\n",
    "- [ ] Scrape \"Show more\" data"
   ],
   "id": "aaa13a5efaa931f8"
  },
  {
   "cell_type": "code",
   "id": "initial_id",
   "metadata": {
    "collapsed": true,
    "ExecuteTime": {
     "end_time": "2024-06-04T02:28:18.271372Z",
     "start_time": "2024-06-04T02:28:18.268611Z"
    }
   },
   "source": "print(\"Hello, Jupyter\")",
   "outputs": [
    {
     "name": "stdout",
     "output_type": "stream",
     "text": [
      "Hello, Jupyter\n"
     ]
    }
   ],
   "execution_count": 1
  },
  {
   "metadata": {
    "ExecuteTime": {
     "end_time": "2024-06-04T02:28:18.351829Z",
     "start_time": "2024-06-04T02:28:18.272178Z"
    }
   },
   "cell_type": "code",
   "source": [
    "from selenium import webdriver\n",
    "from selenium.webdriver.chrome.options import Options\n",
    "from selenium.webdriver.chrome.service import Service\n",
    "from selenium.webdriver.common.by import By\n",
    "from webdriver_manager.chrome import ChromeDriverManager"
   ],
   "id": "e798abda3160e6a3",
   "outputs": [],
   "execution_count": 2
  },
  {
   "metadata": {
    "ExecuteTime": {
     "end_time": "2024-06-04T02:29:02.388567Z",
     "start_time": "2024-06-04T02:28:18.352787Z"
    }
   },
   "cell_type": "code",
   "source": [
    "options = Options()\n",
    "options.add_argument('--headless')\n",
    "options.add_argument('--no-sandbox')\n",
    "options.add_argument('--disable-dev-shm-usage')\n",
    "driver = webdriver.Chrome(service=Service(ChromeDriverManager().install()), options=options)"
   ],
   "id": "8727b9682eaba90a",
   "outputs": [],
   "execution_count": 3
  },
  {
   "metadata": {
    "ExecuteTime": {
     "end_time": "2024-06-04T02:29:02.393657Z",
     "start_time": "2024-06-04T02:29:02.390358Z"
    }
   },
   "cell_type": "code",
   "source": "url = 'https://meteostat.net/en/place/vn/thu-uc?s=48900&t=2024-01-01/2024-05-26'",
   "id": "9e1803081885d3f9",
   "outputs": [],
   "execution_count": 4
  },
  {
   "metadata": {
    "ExecuteTime": {
     "end_time": "2024-06-04T02:30:42.753684Z",
     "start_time": "2024-06-04T02:29:02.395981Z"
    }
   },
   "cell_type": "code",
   "source": "driver.get(url)",
   "id": "c1bca9ebfd327666",
   "outputs": [],
   "execution_count": 5
  },
  {
   "metadata": {
    "ExecuteTime": {
     "end_time": "2024-06-04T02:30:42.756938Z",
     "start_time": "2024-06-04T02:30:42.754697Z"
    }
   },
   "cell_type": "code",
   "source": "button_accept_xpath = '//*[@id=\"cookieModal\"]/div/div/div[3]/button[2]'",
   "id": "68124b82654d231c",
   "outputs": [],
   "execution_count": 6
  },
  {
   "metadata": {
    "ExecuteTime": {
     "end_time": "2024-06-04T02:30:42.759475Z",
     "start_time": "2024-06-04T02:30:42.757639Z"
    }
   },
   "cell_type": "code",
   "source": "button_table_xpath = '//*[@id=\"app\"]/div/main/div/div/div/div[1]/div[1]/div[1]/button[2]'",
   "id": "fdbfe4a933475114",
   "outputs": [],
   "execution_count": 7
  },
  {
   "metadata": {
    "ExecuteTime": {
     "end_time": "2024-06-04T02:30:42.774001Z",
     "start_time": "2024-06-04T02:30:42.760164Z"
    }
   },
   "cell_type": "code",
   "source": "button_table = driver.find_element(By.XPATH, button_table_xpath)",
   "id": "3b4c6a06f00ccc17",
   "outputs": [],
   "execution_count": 8
  },
  {
   "metadata": {
    "ExecuteTime": {
     "end_time": "2024-06-04T02:30:42.779999Z",
     "start_time": "2024-06-04T02:30:42.775194Z"
    }
   },
   "cell_type": "code",
   "source": "button_table",
   "id": "c949b85f45fa75d7",
   "outputs": [
    {
     "data": {
      "text/plain": [
       "<selenium.webdriver.remote.webelement.WebElement (session=\"cfc9bba0f04f2c4182d71e15b1dfae03\", element=\"f.C11C62F6BA2E0306BC97B05D04EA4737.d.C96B16AA9BE45A23560FBB37B9A1DD0A.e.32\")>"
      ]
     },
     "execution_count": 9,
     "metadata": {},
     "output_type": "execute_result"
    }
   ],
   "execution_count": 9
  },
  {
   "metadata": {
    "ExecuteTime": {
     "end_time": "2024-06-04T02:30:42.795235Z",
     "start_time": "2024-06-04T02:30:42.780738Z"
    }
   },
   "cell_type": "code",
   "source": "driver.execute_script(\"arguments[0].click();\", button_table)",
   "id": "eb4f455d8b539b1f",
   "outputs": [],
   "execution_count": 10
  },
  {
   "metadata": {
    "ExecuteTime": {
     "end_time": "2024-06-04T02:32:23.069872Z",
     "start_time": "2024-06-04T02:32:23.067787Z"
    }
   },
   "cell_type": "code",
   "source": "table_xpath = '//*[@id=\"details-modal\"]/div/div/div[2]/div[1]'",
   "id": "a9580efedbd0de33",
   "outputs": [],
   "execution_count": 13
  },
  {
   "metadata": {
    "ExecuteTime": {
     "end_time": "2024-06-04T02:32:23.980943Z",
     "start_time": "2024-06-04T02:32:23.968871Z"
    }
   },
   "cell_type": "code",
   "source": "table = driver.find_element(By.XPATH, table_xpath)",
   "id": "41ee95fb0b53788a",
   "outputs": [],
   "execution_count": 14
  },
  {
   "metadata": {
    "ExecuteTime": {
     "end_time": "2024-06-04T02:32:28.883485Z",
     "start_time": "2024-06-04T02:32:28.880465Z"
    }
   },
   "cell_type": "code",
   "source": "table",
   "id": "686ad7dd3e89d5f1",
   "outputs": [
    {
     "data": {
      "text/plain": [
       "<selenium.webdriver.remote.webelement.WebElement (session=\"cfc9bba0f04f2c4182d71e15b1dfae03\", element=\"f.C11C62F6BA2E0306BC97B05D04EA4737.d.C96B16AA9BE45A23560FBB37B9A1DD0A.e.39\")>"
      ]
     },
     "execution_count": 15,
     "metadata": {},
     "output_type": "execute_result"
    }
   ],
   "execution_count": 15
  },
  {
   "metadata": {
    "ExecuteTime": {
     "end_time": "2024-06-04T02:32:33.116814Z",
     "start_time": "2024-06-04T02:32:33.087812Z"
    }
   },
   "cell_type": "code",
   "source": [
    "thead_xpath = '//*[@id=\"details-modal\"]/div/div/div[2]/div[1]/table/thead'\n",
    "thead = table.find_element(By.XPATH, thead_xpath)\n",
    "thead.text"
   ],
   "id": "8275149e2a01bb8d",
   "outputs": [
    {
     "data": {
      "text/plain": [
       "'DATE TMIN TAVG TMAX PRCP SNOW WDIR WSPD WPGT PRES TSUN'"
      ]
     },
     "execution_count": 16,
     "metadata": {},
     "output_type": "execute_result"
    }
   ],
   "execution_count": 16
  },
  {
   "metadata": {
    "ExecuteTime": {
     "end_time": "2024-06-04T02:32:34.471277Z",
     "start_time": "2024-06-04T02:32:34.363153Z"
    }
   },
   "cell_type": "code",
   "source": [
    "thead_tr_xpath = '//*[@id=\"details-modal\"]/div/div/div[2]/div[1]/table/thead/tr'\n",
    "thead_tr = table.find_element(By.XPATH, thead_tr_xpath)\n",
    "thead_tr_th_xpath = '//*[@id=\"details-modal\"]/div/div/div[2]/div[1]/table/thead/tr/th'\n",
    "thead_tr_th_list = thead_tr.find_elements(By.XPATH, thead_tr_th_xpath)\n",
    "\n",
    "th_list = [th.text for th in thead_tr_th_list]"
   ],
   "id": "1bd1bea635c6cfcd",
   "outputs": [],
   "execution_count": 17
  },
  {
   "metadata": {
    "ExecuteTime": {
     "end_time": "2024-06-04T02:32:36.564812Z",
     "start_time": "2024-06-04T02:32:36.562137Z"
    }
   },
   "cell_type": "code",
   "source": "print(th_list)",
   "id": "924e9d0c28c8412",
   "outputs": [
    {
     "name": "stdout",
     "output_type": "stream",
     "text": [
      "['DATE', 'TMIN', 'TAVG', 'TMAX', 'PRCP', 'SNOW', 'WDIR', 'WSPD', 'WPGT', 'PRES', 'TSUN']\n"
     ]
    }
   ],
   "execution_count": 18
  },
  {
   "metadata": {
    "ExecuteTime": {
     "end_time": "2024-06-04T02:32:37.545421Z",
     "start_time": "2024-06-04T02:32:37.521725Z"
    }
   },
   "cell_type": "code",
   "source": [
    "tbody_xpath = '//*[@id=\"details-modal\"]/div/div/div[2]/div[1]/table/tbody'\n",
    "tbody = driver.find_element(By.XPATH, tbody_xpath)\n",
    "tbody_tr_xpath = '//*[@id=\"details-modal\"]/div/div/div[2]/div[1]/table/tbody/tr'\n",
    "tbody_tr_list = tbody.find_elements(By.XPATH, tbody_tr_xpath)"
   ],
   "id": "8e17dee2e1ff5470",
   "outputs": [],
   "execution_count": 19
  },
  {
   "metadata": {
    "ExecuteTime": {
     "end_time": "2024-06-04T02:32:38.549132Z",
     "start_time": "2024-06-04T02:32:38.455962Z"
    }
   },
   "cell_type": "code",
   "source": [
    "for tr in tbody_tr_list:\n",
    "    print(tr.text)"
   ],
   "id": "fe984357f0167978",
   "outputs": [
    {
     "name": "stdout",
     "output_type": "stream",
     "text": [
      "2024-01-01 25 °C 28.2 °C 32 °C 0 mm — 6.2 km/h — 1011.3 hPa —\n",
      "2024-01-02 25 °C 28.6 °C 34 °C 0 mm — 6.3 km/h — 1010.9 hPa —\n",
      "2024-01-03 26 °C 28.6 °C 33 °C 0 mm — 7.1 km/h — 1010.8 hPa —\n",
      "2024-01-04 25 °C 28.2 °C 32 °C 0 mm — 6.8 km/h — 1011.4 hPa —\n",
      "2024-01-05 24 °C 27.7 °C 31 °C 0 mm — 5.1 km/h — 1012.1 hPa —\n",
      "2024-01-06 25 °C 28.7 °C 33 °C 0.3 mm — 6.1 km/h — 1011.7 hPa —\n",
      "2024-01-07 25 °C 28.8 °C 34 °C 0 mm — 6.9 km/h — 1012.3 hPa —\n",
      "2024-01-08 26 °C 28.6 °C 32 °C 0 mm — 5 km/h — 1012 hPa —\n",
      "2024-01-09 26 °C 28.8 °C 34 °C 0 mm — 7.3 km/h — 1011.3 hPa —\n",
      "2024-01-10 26 °C 29.3 °C 34 °C 0 mm — 9 km/h — 1010.5 hPa —\n"
     ]
    }
   ],
   "execution_count": 20
  },
  {
   "metadata": {},
   "cell_type": "code",
   "outputs": [
    {
     "name": "stdout",
     "output_type": "stream",
     "text": [
      "['25 °C', '28.2 °C', '32 °C', '0 mm', '—', '', '6.2 km/h', '—', '1011.3 hPa', '—']\n"
     ]
    }
   ],
   "execution_count": 29,
   "source": [
    "tr0 = tbody_tr_list[0]\n",
    "tr0_col_list = tr0.find_elements(By.XPATH, './td')\n",
    "tr0_wdir = tr0_col_list[5]\n",
    "tr0_col_list = [col.text for col in tr0_col_list]\n",
    "\n",
    "print(tr0_col_list)"
   ],
   "id": "ac9d7fbb3535d89b"
  },
  {
   "metadata": {},
   "cell_type": "code",
   "outputs": [],
   "execution_count": 34,
   "source": "tr0_wdir_class = tr0_wdir.find_element(By.XPATH, './i').get_attribute('class')",
   "id": "adc10664262141c9"
  },
  {
   "metadata": {},
   "cell_type": "code",
   "outputs": [
    {
     "data": {
      "text/plain": [
       "'293'"
      ]
     },
     "execution_count": 40,
     "metadata": {},
     "output_type": "execute_result"
    }
   ],
   "execution_count": 40,
   "source": "tr0_wdir_class.split('-')[-2]",
   "id": "8f0f389aec931d56"
  },
  {
   "metadata": {},
   "cell_type": "code",
   "outputs": [
    {
     "name": "stdout",
     "output_type": "stream",
     "text": [
      "['25 °C', '28.6 °C', '34 °C', '0 mm', '—', '', '6.3 km/h', '—', '1010.9 hPa', '—']\n"
     ]
    }
   ],
   "execution_count": 22,
   "source": [
    "tr1 = tbody_tr_list[1]\n",
    "tr1_col_list = tr1.find_elements(By.XPATH, './td')\n",
    "tr1_col_list = [col.text for col in tr1_col_list]\n",
    "\n",
    "print(tr1_col_list)"
   ],
   "id": "7e0413b3088104f9"
  },
  {
   "metadata": {},
   "cell_type": "code",
   "outputs": [],
   "execution_count": 47,
   "source": [
    "td = list()\n",
    "for tr in tbody_tr_list:\n",
    "    # Extract row's ./th\n",
    "    tr_th = tr.find_element(By.XPATH, './th').text\n",
    "    \n",
    "    # Extract row's ./td\n",
    "    tr_td_list = tr.find_elements(By.XPATH, './td')\n",
    "    \n",
    "    # Extract wind direction from element's class\n",
    "    tr_wdir = tr_td_list[5]\n",
    "    tr_wdir_class = tr_wdir.find_element(By.XPATH, './i').get_attribute('class')\n",
    "    tr_wdir = tr_wdir_class.split('-')[-2]\n",
    "    \n",
    "    # Assemble row's data\n",
    "    tr_td_list = [tr_th] + [td.text for td in tr_td_list]\n",
    "    tr_td_list[6] = tr_wdir\n",
    "    td.append(tr_td_list)"
   ],
   "id": "b38bebfb2aa553a"
  },
  {
   "metadata": {},
   "cell_type": "code",
   "outputs": [
    {
     "name": "stdout",
     "output_type": "stream",
     "text": [
      "['2024-01-01', '25 °C', '28.2 °C', '32 °C', '0 mm', '—', '293', '6.2 km/h', '—', '1011.3 hPa', '—']\n",
      "['2024-01-02', '25 °C', '28.6 °C', '34 °C', '0 mm', '—', '304', '6.3 km/h', '—', '1010.9 hPa', '—']\n",
      "['2024-01-03', '26 °C', '28.6 °C', '33 °C', '0 mm', '—', '304', '7.1 km/h', '—', '1010.8 hPa', '—']\n",
      "['2024-01-04', '25 °C', '28.2 °C', '32 °C', '0 mm', '—', '340', '6.8 km/h', '—', '1011.4 hPa', '—']\n",
      "['2024-01-05', '24 °C', '27.7 °C', '31 °C', '0 mm', '—', '341', '5.1 km/h', '—', '1012.1 hPa', '—']\n",
      "['2024-01-06', '25 °C', '28.7 °C', '33 °C', '0.3 mm', '—', '333', '6.1 km/h', '—', '1011.7 hPa', '—']\n",
      "['2024-01-07', '25 °C', '28.8 °C', '34 °C', '0 mm', '—', '138', '6.9 km/h', '—', '1012.3 hPa', '—']\n",
      "['2024-01-08', '26 °C', '28.6 °C', '32 °C', '0 mm', '—', '87', '5 km/h', '—', '1012 hPa', '—']\n",
      "['2024-01-09', '26 °C', '28.8 °C', '34 °C', '0 mm', '—', '93', '7.3 km/h', '—', '1011.3 hPa', '—']\n",
      "['2024-01-10', '26 °C', '29.3 °C', '34 °C', '0 mm', '—', '128', '9 km/h', '—', '1010.5 hPa', '—']\n"
     ]
    }
   ],
   "execution_count": 48,
   "source": [
    "for i in td:\n",
    "    print(i)"
   ],
   "id": "e9597f918e3ac65c"
  },
  {
   "metadata": {},
   "cell_type": "code",
   "outputs": [],
   "execution_count": 49,
   "source": "import pandas as pd",
   "id": "73152268e4cc982b"
  },
  {
   "metadata": {},
   "cell_type": "code",
   "outputs": [],
   "execution_count": 50,
   "source": "meteostat_df = pd.DataFrame(td, columns=th_list)",
   "id": "fb956634fc8dc17c"
  },
  {
   "metadata": {},
   "cell_type": "code",
   "outputs": [
    {
     "data": {
      "text/plain": [
       "         DATE   TMIN     TAVG   TMAX    PRCP SNOW WDIR      WSPD WPGT  \\\n",
       "0  2024-01-01  25 °C  28.2 °C  32 °C    0 mm    —  293  6.2 km/h    —   \n",
       "1  2024-01-02  25 °C  28.6 °C  34 °C    0 mm    —  304  6.3 km/h    —   \n",
       "2  2024-01-03  26 °C  28.6 °C  33 °C    0 mm    —  304  7.1 km/h    —   \n",
       "3  2024-01-04  25 °C  28.2 °C  32 °C    0 mm    —  340  6.8 km/h    —   \n",
       "4  2024-01-05  24 °C  27.7 °C  31 °C    0 mm    —  341  5.1 km/h    —   \n",
       "5  2024-01-06  25 °C  28.7 °C  33 °C  0.3 mm    —  333  6.1 km/h    —   \n",
       "6  2024-01-07  25 °C  28.8 °C  34 °C    0 mm    —  138  6.9 km/h    —   \n",
       "7  2024-01-08  26 °C  28.6 °C  32 °C    0 mm    —   87    5 km/h    —   \n",
       "8  2024-01-09  26 °C  28.8 °C  34 °C    0 mm    —   93  7.3 km/h    —   \n",
       "9  2024-01-10  26 °C  29.3 °C  34 °C    0 mm    —  128    9 km/h    —   \n",
       "\n",
       "         PRES TSUN  \n",
       "0  1011.3 hPa    —  \n",
       "1  1010.9 hPa    —  \n",
       "2  1010.8 hPa    —  \n",
       "3  1011.4 hPa    —  \n",
       "4  1012.1 hPa    —  \n",
       "5  1011.7 hPa    —  \n",
       "6  1012.3 hPa    —  \n",
       "7    1012 hPa    —  \n",
       "8  1011.3 hPa    —  \n",
       "9  1010.5 hPa    —  "
      ],
      "text/html": [
       "<div>\n",
       "<style scoped>\n",
       "    .dataframe tbody tr th:only-of-type {\n",
       "        vertical-align: middle;\n",
       "    }\n",
       "\n",
       "    .dataframe tbody tr th {\n",
       "        vertical-align: top;\n",
       "    }\n",
       "\n",
       "    .dataframe thead th {\n",
       "        text-align: right;\n",
       "    }\n",
       "</style>\n",
       "<table border=\"1\" class=\"dataframe\">\n",
       "  <thead>\n",
       "    <tr style=\"text-align: right;\">\n",
       "      <th></th>\n",
       "      <th>DATE</th>\n",
       "      <th>TMIN</th>\n",
       "      <th>TAVG</th>\n",
       "      <th>TMAX</th>\n",
       "      <th>PRCP</th>\n",
       "      <th>SNOW</th>\n",
       "      <th>WDIR</th>\n",
       "      <th>WSPD</th>\n",
       "      <th>WPGT</th>\n",
       "      <th>PRES</th>\n",
       "      <th>TSUN</th>\n",
       "    </tr>\n",
       "  </thead>\n",
       "  <tbody>\n",
       "    <tr>\n",
       "      <th>0</th>\n",
       "      <td>2024-01-01</td>\n",
       "      <td>25 °C</td>\n",
       "      <td>28.2 °C</td>\n",
       "      <td>32 °C</td>\n",
       "      <td>0 mm</td>\n",
       "      <td>—</td>\n",
       "      <td>293</td>\n",
       "      <td>6.2 km/h</td>\n",
       "      <td>—</td>\n",
       "      <td>1011.3 hPa</td>\n",
       "      <td>—</td>\n",
       "    </tr>\n",
       "    <tr>\n",
       "      <th>1</th>\n",
       "      <td>2024-01-02</td>\n",
       "      <td>25 °C</td>\n",
       "      <td>28.6 °C</td>\n",
       "      <td>34 °C</td>\n",
       "      <td>0 mm</td>\n",
       "      <td>—</td>\n",
       "      <td>304</td>\n",
       "      <td>6.3 km/h</td>\n",
       "      <td>—</td>\n",
       "      <td>1010.9 hPa</td>\n",
       "      <td>—</td>\n",
       "    </tr>\n",
       "    <tr>\n",
       "      <th>2</th>\n",
       "      <td>2024-01-03</td>\n",
       "      <td>26 °C</td>\n",
       "      <td>28.6 °C</td>\n",
       "      <td>33 °C</td>\n",
       "      <td>0 mm</td>\n",
       "      <td>—</td>\n",
       "      <td>304</td>\n",
       "      <td>7.1 km/h</td>\n",
       "      <td>—</td>\n",
       "      <td>1010.8 hPa</td>\n",
       "      <td>—</td>\n",
       "    </tr>\n",
       "    <tr>\n",
       "      <th>3</th>\n",
       "      <td>2024-01-04</td>\n",
       "      <td>25 °C</td>\n",
       "      <td>28.2 °C</td>\n",
       "      <td>32 °C</td>\n",
       "      <td>0 mm</td>\n",
       "      <td>—</td>\n",
       "      <td>340</td>\n",
       "      <td>6.8 km/h</td>\n",
       "      <td>—</td>\n",
       "      <td>1011.4 hPa</td>\n",
       "      <td>—</td>\n",
       "    </tr>\n",
       "    <tr>\n",
       "      <th>4</th>\n",
       "      <td>2024-01-05</td>\n",
       "      <td>24 °C</td>\n",
       "      <td>27.7 °C</td>\n",
       "      <td>31 °C</td>\n",
       "      <td>0 mm</td>\n",
       "      <td>—</td>\n",
       "      <td>341</td>\n",
       "      <td>5.1 km/h</td>\n",
       "      <td>—</td>\n",
       "      <td>1012.1 hPa</td>\n",
       "      <td>—</td>\n",
       "    </tr>\n",
       "    <tr>\n",
       "      <th>5</th>\n",
       "      <td>2024-01-06</td>\n",
       "      <td>25 °C</td>\n",
       "      <td>28.7 °C</td>\n",
       "      <td>33 °C</td>\n",
       "      <td>0.3 mm</td>\n",
       "      <td>—</td>\n",
       "      <td>333</td>\n",
       "      <td>6.1 km/h</td>\n",
       "      <td>—</td>\n",
       "      <td>1011.7 hPa</td>\n",
       "      <td>—</td>\n",
       "    </tr>\n",
       "    <tr>\n",
       "      <th>6</th>\n",
       "      <td>2024-01-07</td>\n",
       "      <td>25 °C</td>\n",
       "      <td>28.8 °C</td>\n",
       "      <td>34 °C</td>\n",
       "      <td>0 mm</td>\n",
       "      <td>—</td>\n",
       "      <td>138</td>\n",
       "      <td>6.9 km/h</td>\n",
       "      <td>—</td>\n",
       "      <td>1012.3 hPa</td>\n",
       "      <td>—</td>\n",
       "    </tr>\n",
       "    <tr>\n",
       "      <th>7</th>\n",
       "      <td>2024-01-08</td>\n",
       "      <td>26 °C</td>\n",
       "      <td>28.6 °C</td>\n",
       "      <td>32 °C</td>\n",
       "      <td>0 mm</td>\n",
       "      <td>—</td>\n",
       "      <td>87</td>\n",
       "      <td>5 km/h</td>\n",
       "      <td>—</td>\n",
       "      <td>1012 hPa</td>\n",
       "      <td>—</td>\n",
       "    </tr>\n",
       "    <tr>\n",
       "      <th>8</th>\n",
       "      <td>2024-01-09</td>\n",
       "      <td>26 °C</td>\n",
       "      <td>28.8 °C</td>\n",
       "      <td>34 °C</td>\n",
       "      <td>0 mm</td>\n",
       "      <td>—</td>\n",
       "      <td>93</td>\n",
       "      <td>7.3 km/h</td>\n",
       "      <td>—</td>\n",
       "      <td>1011.3 hPa</td>\n",
       "      <td>—</td>\n",
       "    </tr>\n",
       "    <tr>\n",
       "      <th>9</th>\n",
       "      <td>2024-01-10</td>\n",
       "      <td>26 °C</td>\n",
       "      <td>29.3 °C</td>\n",
       "      <td>34 °C</td>\n",
       "      <td>0 mm</td>\n",
       "      <td>—</td>\n",
       "      <td>128</td>\n",
       "      <td>9 km/h</td>\n",
       "      <td>—</td>\n",
       "      <td>1010.5 hPa</td>\n",
       "      <td>—</td>\n",
       "    </tr>\n",
       "  </tbody>\n",
       "</table>\n",
       "</div>"
      ]
     },
     "execution_count": 51,
     "metadata": {},
     "output_type": "execute_result"
    }
   ],
   "execution_count": 51,
   "source": "meteostat_df",
   "id": "34f6919317788389"
  },
  {
   "metadata": {},
   "cell_type": "code",
   "outputs": [],
   "execution_count": null,
   "source": "",
   "id": "b1838f6ce66e1544"
  }
 ],
 "metadata": {
  "kernelspec": {
   "display_name": "Python 3",
   "language": "python",
   "name": "python3"
  },
  "language_info": {
   "codemirror_mode": {
    "name": "ipython",
    "version": 2
   },
   "file_extension": ".py",
   "mimetype": "text/x-python",
   "name": "python",
   "nbconvert_exporter": "python",
   "pygments_lexer": "ipython2",
   "version": "2.7.6"
  }
 },
 "nbformat": 4,
 "nbformat_minor": 5
}
